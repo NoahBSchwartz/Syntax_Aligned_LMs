{
 "cells": [
  {
   "cell_type": "markdown",
   "id": "e9ff71d3-2ff6-41e7-aade-8cd9a56a6965",
   "metadata": {},
   "source": [
    "## QWEN-2 7B Instruct LLM\n",
    "- Developed by Alibaba group : https://arxiv.org/abs/2309.16609\n",
    "- Four variations 0.5B, 1.5B, 7B, and 72B model parameters\n",
    "- 72B model has better performance than current open source LLM such as Llama-70B"
   ]
  },
  {
   "cell_type": "markdown",
   "id": "541b1547-e279-4d30-a623-de22953c89c6",
   "metadata": {},
   "source": [
    "### Setup the model and tokenizer"
   ]
  },
  {
   "cell_type": "code",
   "execution_count": null,
   "id": "ea3854f8-eb6c-409c-8d69-6fe5c0fbcd1f",
   "metadata": {},
   "outputs": [],
   "source": [
    "import peft, accelerate, loralib\n",
    "import os\n",
    "os.environ[\"CUDA_VISIBLE_DEVICES\"] = \"0\"\n",
    "import wandb\n",
    "import torch\n",
    "import  bitsandbytes as bnb\n",
    "from transformers import AutoTokenizer, AutoConfig, AutoModelForCausalLM, BitsAndBytesConfig\n",
    "import numpy as np"
   ]
  },
  {
   "cell_type": "code",
   "execution_count": null,
   "id": "f06a0b40-b2c7-4e7b-8e55-5898f38fb80d",
   "metadata": {},
   "outputs": [],
   "source": [
    "quantization_config = BitsAndBytesConfig(load_in_4bit=True)\n",
    "\n",
    "orig_model = AutoModelForCausalLM.from_pretrained(\n",
    "    \"Qwen/Qwen2-7B\",\n",
    "    quantization_config=quantization_config,\n",
    "    device_map=\"auto\"\n",
    ")\n",
    "\n",
    "tokenizer = AutoTokenizer.from_pretrained(\"Qwen/Qwen2-7B\")"
   ]
  },
  {
   "cell_type": "code",
   "execution_count": null,
   "id": "4c549bc4-5335-4e3a-b00d-212b56adb96c",
   "metadata": {},
   "outputs": [],
   "source": [
    "orig_model # Looking at the model parameters and architecture"
   ]
  },
  {
   "cell_type": "code",
   "execution_count": null,
   "id": "569ffc10-f3e8-422f-9009-50b8580f89de",
   "metadata": {},
   "outputs": [],
   "source": [
    "for param in orig_model.parameters():\n",
    "    param.requires_grad = False\n",
    "    if param.ndim == 1:\n",
    "        param.data = param.data.to(torch.float16)\n",
    "\n",
    "orig_model.gradient_checkpointing_enable()\n",
    "orig_model.enable_input_require_grads()"
   ]
  },
  {
   "cell_type": "code",
   "execution_count": null,
   "id": "780b233b-f38e-4a8e-a42d-f1ef532ea606",
   "metadata": {},
   "outputs": [],
   "source": [
    "class CastOutputToFloat(torch.nn.Sequential):\n",
    "    def forward(self, x):\n",
    "        return super().forward(x).to(torch.float16)\n",
    "\n",
    "orig_model.lm_head = CastOutputToFloat(orig_model.lm_head) # Convert the last layer to Float 16"
   ]
  },
  {
   "cell_type": "code",
   "execution_count": null,
   "id": "06bde2a3-2077-45aa-8198-5876b5ac3bcc",
   "metadata": {},
   "outputs": [],
   "source": [
    "## Setting the Lora Adapters\n",
    "def print_trainable_params(model):\n",
    "    trainable_params = 0\n",
    "    all_params = 0\n",
    "    for _, param in model.named_parameters():\n",
    "        all_params += param.numel()\n",
    "        if param.requires_grad:\n",
    "            trainable_params += param.numel()\n",
    "    print(f\"Trainable Param: {trainable_params}\")\n",
    "    print(f\"All Params: {all_params}\\n% Trainable: {(trainable_params/all_params)*100}\")"
   ]
  },
  {
   "cell_type": "code",
   "execution_count": null,
   "id": "37d64b93-13f8-48bd-bb4d-83513373a947",
   "metadata": {},
   "outputs": [],
   "source": [
    "loraConfig = peft.LoraConfig(\n",
    "    r=16,\n",
    "    target_modules=[\"q_proj\", \"k_proj\", \"v_proj\", \"o_proj\", \"gate_proj\", \"up_proj\", \"down_proj\"],\n",
    "    lora_alpha=16,\n",
    "    lora_dropout=0,\n",
    "    bias=\"none\",\n",
    "    task_type=\"CAUSAL_LM\",\n",
    ")\n",
    "model = peft.get_peft_model(orig_model, loraConfig)\n",
    "print_trainable_params(model)"
   ]
  },
  {
   "cell_type": "markdown",
   "id": "6b6d48c8-8b7f-472a-b41a-2c75f56ffe55",
   "metadata": {},
   "source": [
    "### Load the datasets and modify them"
   ]
  },
  {
   "cell_type": "code",
   "execution_count": null,
   "id": "5bc00ef0-92c7-430c-ac41-0cf08376314b",
   "metadata": {},
   "outputs": [],
   "source": [
    "import json\n",
    "import os\n",
    "from datasets import load_dataset\n",
    "import re"
   ]
  },
  {
   "cell_type": "code",
   "execution_count": null,
   "id": "4ba6d29f-2328-444e-9386-f13350e13b66",
   "metadata": {},
   "outputs": [],
   "source": [
    "with open(\"../data/train.json\") as f:\n",
    "    train = json.load(f)\n",
    "with open(\"../data/val.json\") as f:\n",
    "    val = json.load(f)\n",
    "with open(\"../data/test.json\") as f:\n",
    "    test = json.load(f)"
   ]
  },
  {
   "cell_type": "code",
   "execution_count": null,
   "id": "77b69e70-26b3-4769-8856-2b38097050b9",
   "metadata": {},
   "outputs": [],
   "source": [
    "pattern_q = r\"\\n### Question: (.*?)\\n### Response\"\n",
    "pattern_sp = r\"### System Prompt: (.*?)\\n### Question:\""
   ]
  },
  {
   "cell_type": "code",
   "execution_count": null,
   "id": "33525021-0c0a-4a04-bc9b-fbc3dd18a53a",
   "metadata": {},
   "outputs": [],
   "source": [
    "for x in [train, val, test]:\n",
    "    for items in x:\n",
    "        items[\"prompt\"] = items[\"prompt\"].replace(\"closer to natural language\", \"closer to natural language. The ordering format is as follows: LIMIT -> UNION/INTERSECT/EXCEPT -> WHERE/HAVING -> ORDER/GROUP BY -> PROJECT -> SELECT -> FROM -> JOIN\")\n",
    "        items[\"output\"] = items[\"dsql\"]\n",
    "        items[\"text\"] = \"\"\n",
    "        match = re.search(pattern_q, items[\"prompt\"], re.DOTALL)\n",
    "        if match:\n",
    "            question = match.group(1)\n",
    "            items[\"input\"] = str(question)\n",
    "        match = re.search(pattern_sp, items[\"prompt\"], re.DOTALL)\n",
    "        if match:\n",
    "            text = match.group(1)\n",
    "            items[\"instruction\"] = str(text)\n",
    "        del items[\"dsql\"], items[\"prompt\"]"
   ]
  },
  {
   "cell_type": "code",
   "execution_count": null,
   "id": "05fbd22c-bde9-4e23-8edf-70887d8179d8",
   "metadata": {},
   "outputs": [],
   "source": [
    "with open('./datasets/train.json', 'w') as fout:\n",
    "    json.dump(train, fout)\n",
    "with open('./datasets/val.json', 'w') as fout:\n",
    "    json.dump(val, fout)\n",
    "with open('./datasets/test.json', 'w') as fout:\n",
    "    json.dump(test, fout)"
   ]
  },
  {
   "cell_type": "code",
   "execution_count": null,
   "id": "94af32e5-dd81-46f4-9ddc-b13d66988ae5",
   "metadata": {},
   "outputs": [],
   "source": [
    "data_X = load_dataset(\"json\", data_files={\n",
    "    'train': \"datasets/train.json\", 'validation': \"datasets/val.json\"\n",
    "})"
   ]
  },
  {
   "cell_type": "code",
   "execution_count": null,
   "id": "1c28dd17-fb90-45f7-bbd5-aae6c13e287c",
   "metadata": {},
   "outputs": [],
   "source": [
    "data_X"
   ]
  },
  {
   "cell_type": "code",
   "execution_count": null,
   "id": "7bcb193f-5cc4-4080-ab69-88d73db4fd7c",
   "metadata": {},
   "outputs": [],
   "source": [
    "train[0]"
   ]
  },
  {
   "cell_type": "code",
   "execution_count": null,
   "id": "28e61daa-eef0-487f-97f5-ee824531f54f",
   "metadata": {},
   "outputs": [],
   "source": [
    "main_prompt = \"\"\"Below is an instruction that describes a task, paired with an input that provides further context for the given output.\n",
    "\n",
    "### Instruction:\n",
    "{}\n",
    "\n",
    "### Input:\n",
    "{}\n",
    "\n",
    "### Output:\n",
    "{}\n",
    "\"\"\"\n",
    "\n",
    "EOS_TOKEN = tokenizer.eos_token"
   ]
  },
  {
   "cell_type": "code",
   "execution_count": null,
   "id": "0fb43090-c3b3-4642-ab2f-8fcd9a4e1cdd",
   "metadata": {},
   "outputs": [],
   "source": [
    "def format_prompts(examples):\n",
    "    inst = examples[\"instruction\"]\n",
    "    inp = examples[\"input\"]\n",
    "    outp = examples[\"output\"]\n",
    "    texts = []\n",
    "    for inst_, inp_, outp_ in zip(inst, inp, outp):\n",
    "        text = main_prompt.format(inst_, inp_, outp_) + EOS_TOKEN\n",
    "        texts.append(text)\n",
    "    return {\"text\": texts, }"
   ]
  },
  {
   "cell_type": "code",
   "execution_count": null,
   "id": "1c9fb9c0-da66-40d1-ab27-bc5e82ec98f7",
   "metadata": {},
   "outputs": [],
   "source": [
    "data_X = data_X.map(format_prompts, batched=True)\n",
    "data_X = data_X.map(lambda samples: tokenizer(samples[\"text\"]), batched=True)"
   ]
  },
  {
   "cell_type": "code",
   "execution_count": null,
   "id": "9ddbf02e-22fd-4b03-ac27-872cc95366d0",
   "metadata": {},
   "outputs": [],
   "source": [
    "data_X # Includes both train and validation datasets"
   ]
  },
  {
   "cell_type": "code",
   "execution_count": null,
   "id": "7166f44d-96e9-453f-b4e9-95dcc6c39b36",
   "metadata": {},
   "outputs": [],
   "source": [
    "del train, val, test"
   ]
  },
  {
   "cell_type": "markdown",
   "id": "1f181c07-012b-44c1-a02d-b8db97d525ab",
   "metadata": {},
   "source": [
    "### Training the model"
   ]
  },
  {
   "cell_type": "code",
   "execution_count": null,
   "id": "2e89e826-d826-43dc-a528-ba3790b106a3",
   "metadata": {},
   "outputs": [],
   "source": [
    "from transformers import Trainer, TrainingArguments, DataCollatorForLanguageModeling\n",
    "import wandb\n",
    "from random_word import RandomWords\n",
    "r = RandomWords()\n",
    "run_name = r.get_random_word()\n",
    "os.environ[\"WANDB_PROJECT\"] = \"qwen-7B-finetune\"\n",
    "os.environ[\"WANDB_LOG_MODEL\"] = \"checkpoint\"\n",
    "\n",
    "trainer = Trainer(\n",
    "    model=model,\n",
    "    tokenizer=tokenizer,\n",
    "    train_dataset=data_X[\"train\"],\n",
    "    eval_dataset=data_X[\"validation\"],\n",
    "    args=TrainingArguments(\n",
    "        per_device_train_batch_size=1,\n",
    "        per_device_eval_batch_size=1,\n",
    "        gradient_accumulation_steps=1,\n",
    "        eval_strategy=\"steps\",\n",
    "        num_train_epochs=3,\n",
    "        warmup_steps=5,\n",
    "        max_steps=60,\n",
    "        learning_rate=2e-4,\n",
    "        weight_decay=1e-2,\n",
    "        lr_scheduler_type=\"linear\",\n",
    "        seed=42,\n",
    "        fp16=True,\n",
    "        optim=\"adamw_8bit\",\n",
    "        logging_steps=0.5,\n",
    "        output_dir='outputs',\n",
    "        report_to=\"wandb\",\n",
    "        run_name=f\"finetune-lora-{run_name}\",\n",
    "        load_best_model_at_end=True,\n",
    "    ),\n",
    "    data_collator=DataCollatorForLanguageModeling(tokenizer, mlm=False)\n",
    ")\n",
    "\n",
    "model.config.use_cache = False"
   ]
  },
  {
   "cell_type": "code",
   "execution_count": null,
   "id": "40fbf42f-514d-4878-85a4-1e0a97c0f85f",
   "metadata": {},
   "outputs": [],
   "source": [
    "trainer.train()"
   ]
  },
  {
   "cell_type": "code",
   "execution_count": null,
   "id": "1bd56f75-c9c6-492e-9f04-8024aace7a00",
   "metadata": {},
   "outputs": [],
   "source": [
    "data_X_test = load_dataset(\"json\", data_files={\n",
    "    'test': \"datasets/test.json\"\n",
    "})"
   ]
  },
  {
   "cell_type": "code",
   "execution_count": null,
   "id": "4fcae7a1-e41a-435f-9153-2b4e6bf9523f",
   "metadata": {},
   "outputs": [],
   "source": [
    "data_X_test = data_X_test.map(format_prompts, batched=True)\n",
    "data_X_test = data_X_test.map(lambda samples: tokenizer(samples[\"text\"]), batched=True)"
   ]
  },
  {
   "cell_type": "code",
   "execution_count": null,
   "id": "60cf1288-8794-4cc1-8e47-f498a8749675",
   "metadata": {},
   "outputs": [],
   "source": [
    "sample_test = data_X_test[\"test\"].select(range(3))"
   ]
  },
  {
   "cell_type": "code",
   "execution_count": null,
   "id": "be3e77fc-297d-45a5-96e5-3476676c1345",
   "metadata": {},
   "outputs": [],
   "source": [
    "output_t = trainer.predict(sample_test)"
   ]
  },
  {
   "cell_type": "code",
   "execution_count": null,
   "id": "8ce57d4a-9407-423d-9e8a-238e45f250c9",
   "metadata": {},
   "outputs": [],
   "source": [
    "for i in range(len(output_t.label_ids)):\n",
    "    preds = np.where(output_t.label_ids[i][:-1] != -100, output_t.label_ids[i][:-1], tokenizer.pad_token_id)\n",
    "    print(\"###############\\nLLM Output:\", tokenizer.decode(preds))\n",
    "    print(\"###############\\nGT ===>\",sample_test[i][\"output\"], \"\\n\\n\")"
   ]
  }
 ],
 "metadata": {
  "kernelspec": {
   "display_name": "base",
   "language": "python",
   "name": "python3"
  },
  "language_info": {
   "codemirror_mode": {
    "name": "ipython",
    "version": 3
   },
   "file_extension": ".py",
   "mimetype": "text/x-python",
   "name": "python",
   "nbconvert_exporter": "python",
   "pygments_lexer": "ipython3",
   "version": "3.12.4"
  }
 },
 "nbformat": 4,
 "nbformat_minor": 5
}
